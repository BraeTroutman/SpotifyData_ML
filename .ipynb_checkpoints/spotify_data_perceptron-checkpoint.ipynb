{
 "cells": [
  {
   "cell_type": "markdown",
   "metadata": {},
   "source": [
    "# Perceptron and Adaline ML Models Applied to the \"superheroes-NLP-dataset\""
   ]
  },
  {
   "cell_type": "code",
   "execution_count": 1,
   "metadata": {},
   "outputs": [],
   "source": [
    "import pandas as pd\n",
    "import numpy as np"
   ]
  },
  {
   "cell_type": "markdown",
   "metadata": {},
   "source": [
    "## Loading and looking at our dataset"
   ]
  },
  {
   "cell_type": "markdown",
   "metadata": {},
   "source": [
    "I chose this set because I really like superheroes, I grew up reading all of my dad's old comics that we kept in a box under my bed. This dataset is also targeted specifically towards natural language processing, a topic which I'm really interested in learning more about!"
   ]
  },
  {
   "cell_type": "markdown",
   "metadata": {},
   "source": [
    "Actually scratch all of that I bit off more than I could chew trying to use NLP with machine learning without experience with mapping text data to numeric features that could be used for ML.\n",
    "\n",
    "Music has always been a passion in my life, and I found an interesting dataset that quantifies qualities of music from spotify and also classifies each song in terms of whether the dataset's creator likes or dislikes the song. I think it would be really interesting to do this myself with songs I like dislike."
   ]
  },
  {
   "cell_type": "code",
   "execution_count": 19,
   "metadata": {},
   "outputs": [],
   "source": [
    "music_data = pd.read_csv('spotify.csv')\n",
    "music_data = music_data.sample(frac=1)"
   ]
  },
  {
   "cell_type": "code",
   "execution_count": 20,
   "metadata": {},
   "outputs": [],
   "source": [
    "def every_unique_triplet(mylist):\n",
    "    \"\"\"returns every positionally unique triplet in a given list: assumes that no elements in the list appear more than once\"\"\"\n",
    "    \n",
    "    ret_list = []\n",
    "    list_copy = mylist[1:].copy()\n",
    "    list_copy_copy = list_copy[1:].copy()\n",
    "    \n",
    "    for i in mylist:\n",
    "        for j in list_copy:\n",
    "            for k in list_copy_copy:\n",
    "                if j != k:\n",
    "                    ret_list.append([i,j, k])\n",
    "            list_copy_copy = list_copy[1:]\n",
    "        list_copy = list_copy[1:]\n",
    "   \n",
    "    return ret_list"
   ]
  },
  {
   "cell_type": "code",
   "execution_count": 21,
   "metadata": {},
   "outputs": [],
   "source": [
    "class perceptron(object):\n",
    "    \"\"\"perceptron linear classifier\"\"\"\n",
    "    \n",
    "    # I added the keyword parameter threshold to allow the user to specify the threshold\n",
    "    def __init__(self, learning_rate=0.1, epochs=50, random_seed=1, threshold=0.0):\n",
    "        self.learning_rate = learning_rate\n",
    "        self.epochs = epochs\n",
    "        self.random_seed = random_seed\n",
    "        self.threshold = threshold\n",
    "    \n",
    "    def fit (self, X, y):\n",
    "        unnormalized_weights = np.random.RandomState(self.random_seed)\n",
    "        self.weights = unnormalized_weights.normal(loc=0.0, scale=0.1, size= 1 + X.shape[1]) # initialize weights to small random numbers\n",
    "    \n",
    "        self.errors_ = [] # Will keep track of the number of missclassifications\n",
    "    \n",
    "        for _ in range(self.epochs): #iterate over the data set epochs times\n",
    "            errors = 0\n",
    "            for xi, target in zip(X, y):\n",
    "                delta_weights = self.learning_rate * (target - self.predict(xi)) # compare the predicted value to the desired, and determine change in weights\n",
    "                self.weights[1:] += delta_weights * xi # all weights by delta_weights\n",
    "                self.weights[0] += delta_weights # update bias unit\n",
    "                errors += int(delta_weights != 0.0) # add 1 to the number of errors if the weight changed: otherwise add 0\n",
    "            self.errors_.append(errors) # append number of errors to errors list so we can plot convergence later\n",
    "        return self\n",
    "    \n",
    "    def net_input (self, X):\n",
    "        \"\"\"calculate net input\"\"\"\n",
    "        return np.dot(X, self.weights[1:]) + self.weights[0]\n",
    "    \n",
    "    def predict (self, X):\n",
    "        return np.where(self.net_input(X) >= self.threshold, 1, -1)"
   ]
  },
  {
   "cell_type": "code",
   "execution_count": 22,
   "metadata": {},
   "outputs": [],
   "source": [
    "def accuracy_and_misclasses(prediction, labels):\n",
    "    \"\"\"Fn to determine accuracy\"\"\"\n",
    "    missclassifications = 0\n",
    "    correct_predictions = len(labels)\n",
    "    for a,b in zip(prediction, labels):\n",
    "        if a != b:\n",
    "            missclassifications += 1\n",
    "            correct_predictions -= 1\n",
    "    return (correct_predictions / len(labels), missclassifications)"
   ]
  },
  {
   "cell_type": "code",
   "execution_count": 23,
   "metadata": {},
   "outputs": [],
   "source": [
    "def split_fit_test(c1, c2, c3, testtrain_ratio, dataframe=music_data, verbose=False, learning_rate=0.1, epochs=50, threshold=0):\n",
    "    \"\"\"split data from feature columns c1 and c2 into train and test sets at tt_ratio proportions and fit/test a perceptron\"\"\"\n",
    "    \n",
    "    # get the integer indeces corresponding to the column names passed to split_fit_test\n",
    "    c1_idx = dataframe.columns.get_loc(c1)\n",
    "    c2_idx = dataframe.columns.get_loc(c2)\n",
    "    c3_idx = dataframe.columns.get_loc(c2)\n",
    "    \n",
    "    # number of rows of dataframe which will belong to the training set (we know the number in the test set from this implicitly)\n",
    "    num_train = len(dataframe.index) - int(len(dataframe.index) * testtrain_ratio)\n",
    "    \n",
    "    # Training set\n",
    "    y_train = dataframe.iloc[:num_train,14].values # the array of target values: 2 for benign, 4 for malignant\n",
    "    y_train = np.where(y_train == 1, 1, -1) # change class labels 2 and 4 to -1 and 1 respectively\n",
    "    X_train = dataframe.iloc[:num_train, [c1_idx,c2_idx,c3_idx]].values\n",
    "    \n",
    "    # feature scaling to standardize the distribution of values in our training set\n",
    "    X_train_std = np.copy(X_train)\n",
    "    X_train_std[:, 0] = (X_train[:, 0] - X_train[:, 0].mean()) / X_train[:, 0].std()\n",
    "    X_train_std[:, 1] = (X_train[:, 1] - X_train[:, 1].mean()) / X_train[:, 1].std()\n",
    "    X_train_std[:, 2] = (X_train[:, 2] - X_train[:, 2].mean()) / X_train[:, 2].std()\n",
    "    \n",
    "    # Testing set\n",
    "    y_test = dataframe.iloc[num_train:,14].values # analagous to above\n",
    "    y_test = np.where(y_test == 1, 1, -1)\n",
    "    X_test = dataframe.iloc[num_train:, [c1_idx, c2_idx, c3_idx]].values\n",
    "    X_test_std = np.copy(X_train)\n",
    "    X_test_std[:, 0] = (X_train[:, 0] - X_train[:, 0].mean()) / X_train[:, 0].std()\n",
    "    X_test_std[:, 1] = (X_train[:, 1] - X_train[:, 1].mean()) / X_train[:, 1].std()\n",
    "    X_test_std[:, 2] = (X_train[:, 2] - X_train[:, 2].mean()) / X_train[:, 2].std()\n",
    "    \n",
    "    tron = perceptron(learning_rate=learning_rate, epochs=epochs, threshold=threshold)\n",
    "    tron.fit(X_train_std, y_train)\n",
    "\n",
    "    prediction = tron.predict(X_test_std)\n",
    "    accuracy,misclasses = accuracy_and_misclasses(prediction, y_test)\n",
    "    if verbose:\n",
    "        print(\"For features\", c1, \",\", c2, \"and\", c3, \", and test/train ratio\", testtrain_ratio, \"the perceptron had\", misclasses, \"missclassifications and had an accuracy of\", accuracy, \"\\n\")\n",
    "        \n",
    "    return (accuracy, misclasses)"
   ]
  },
  {
   "cell_type": "markdown",
   "metadata": {},
   "source": [
    "I ran a brute-force loop to check every possible set of features for their accuracy (it ran for about 10 minutes)\n",
    "The results were this:\n",
    "       The highest accuracy was 0.5553719008264463 for the feature set danceability , mode and key with 269 \n",
    "       missclassifications."
   ]
  },
  {
   "cell_type": "code",
   "execution_count": 24,
   "metadata": {},
   "outputs": [
    {
     "name": "stdout",
     "output_type": "stream",
     "text": [
      "For features danceability , duration_ms and time_signature , and test/train ratio 0.3 the perceptron had 298 missclassifications and had an accuracy of 0.5074380165289256 \n",
      "\n"
     ]
    },
    {
     "data": {
      "text/plain": [
       "(0.5074380165289256, 298)"
      ]
     },
     "execution_count": 24,
     "metadata": {},
     "output_type": "execute_result"
    }
   ],
   "source": [
    "split_fit_test('danceability', 'duration_ms', 'time_signature', 0.3, verbose=True)"
   ]
  },
  {
   "cell_type": "code",
   "execution_count": 25,
   "metadata": {},
   "outputs": [
    {
     "name": "stdout",
     "output_type": "stream",
     "text": [
      "For features danceability , duration_ms and time_signature , and test/train ratio 0.25 the perceptron had 273 missclassifications and had an accuracy of 0.4583333333333333 \n",
      "\n",
      "For features danceability , duration_ms and time_signature , and test/train ratio 0.3 the perceptron had 298 missclassifications and had an accuracy of 0.5074380165289256 \n",
      "\n",
      "For features danceability , duration_ms and time_signature , and test/train ratio 0.35 the perceptron had 347 missclassifications and had an accuracy of 0.5078014184397163 \n",
      "\n",
      "For features danceability , duration_ms and time_signature , and test/train ratio 0.4 the perceptron had 401 missclassifications and had an accuracy of 0.5024813895781638 \n",
      "\n",
      "For features danceability , duration_ms and time_signature , and test/train ratio 0.45 the perceptron had 444 missclassifications and had an accuracy of 0.5104740904079382 \n",
      "\n",
      "The highest accuracy was 0.5104740904079382 for test/train proportion 0.45 with 444 missclassifications.\n"
     ]
    }
   ],
   "source": [
    "best_accuracy = 0\n",
    "misses = 0\n",
    "best_prop = 0\n",
    " \n",
    "for prop in [0.25, 0.3, 0.35, 0.40, 0.45]:\n",
    "    acc,miss = split_fit_test('danceability', 'duration_ms', 'time_signature', prop, verbose=True)\n",
    "    if acc > best_accuracy:\n",
    "        best_accuracy = acc\n",
    "        misses = miss\n",
    "        best_prop = prop\n",
    "        \n",
    "        \n",
    "print(\"The highest accuracy was\", best_accuracy, \"for test/train proportion\", best_prop, \"with\", misses, \"missclassifications.\")"
   ]
  },
  {
   "cell_type": "code",
   "execution_count": 27,
   "metadata": {},
   "outputs": [
    {
     "name": "stdout",
     "output_type": "stream",
     "text": [
      "The highest accuracy was 0.5137816979051819 for learning rate 0.001 with 441 missclassifications.\n"
     ]
    }
   ],
   "source": [
    "best_accuracy = 0\n",
    "misses = 0\n",
    "best_rate = 0\n",
    "\n",
    "for rate in [0.0001, 0.001, 0.01, 0.1, 0.2, 0.3, 0.4]:\n",
    "    acc,miss = split_fit_test('danceability', 'duration_ms', 'time_signature', 0.45, learning_rate=rate)\n",
    "    if acc > best_accuracy:\n",
    "        best_accuracy = acc\n",
    "        misses = miss\n",
    "        best_rate = rate\n",
    "\n",
    "print(\"The highest accuracy was\", best_accuracy, \"for learning rate\", best_rate, \"with\", misses, \"missclassifications.\")"
   ]
  },
  {
   "cell_type": "code",
   "execution_count": 28,
   "metadata": {},
   "outputs": [
    {
     "name": "stdout",
     "output_type": "stream",
     "text": [
      "The highest accuracy was 0.515986769570011 for 10 epochs with 439 missclassifications.\n"
     ]
    }
   ],
   "source": [
    "best_accuracy = 0\n",
    "misses = 0\n",
    "best_num_epochs = 0\n",
    "\n",
    "for n in [10, 20, 30, 40, 50, 75, 100, 200]:\n",
    "    acc,miss = split_fit_test('danceability', 'duration_ms', 'time_signature', 0.45, learning_rate=0.001, epochs=n)\n",
    "    if acc > best_accuracy:\n",
    "        best_accuracy = acc\n",
    "        misses = miss\n",
    "        best_num_epochs = n\n",
    "\n",
    "print(\"The highest accuracy was\", best_accuracy, \"for\", best_num_epochs, \"epochs with\", misses, \"missclassifications.\")"
   ]
  },
  {
   "cell_type": "code",
   "execution_count": 29,
   "metadata": {},
   "outputs": [
    {
     "name": "stdout",
     "output_type": "stream",
     "text": [
      "The highest accuracy was 0.515986769570011 for the threshold 0 with 439 missclassifications.\n"
     ]
    }
   ],
   "source": [
    "best_accuracy = 0\n",
    "misses = 0\n",
    "best_threshold = 0\n",
    "for theta in [0, 0.1, 0.01, 0.2, 0.5, 1, 2, -1, -2, 3, 4, 6]:\n",
    "    acc,miss = split_fit_test('danceability', 'duration_ms', 'time_signature', 0.45, learning_rate=0.001, epochs=10, threshold=theta)\n",
    "    if acc > best_accuracy:\n",
    "        best_accuracy = acc\n",
    "        misses = miss\n",
    "        best_threshold = theta\n",
    "        \n",
    "print(\"The highest accuracy was\", best_accuracy, \"for the threshold\", best_threshold, \"with\", misses, \"missclassifications.\")"
   ]
  },
  {
   "cell_type": "code",
   "execution_count": null,
   "metadata": {},
   "outputs": [],
   "source": []
  }
 ],
 "metadata": {
  "kernelspec": {
   "display_name": "Python 3",
   "language": "python",
   "name": "python3"
  },
  "language_info": {
   "codemirror_mode": {
    "name": "ipython",
    "version": 3
   },
   "file_extension": ".py",
   "mimetype": "text/x-python",
   "name": "python",
   "nbconvert_exporter": "python",
   "pygments_lexer": "ipython3",
   "version": "3.6.9"
  }
 },
 "nbformat": 4,
 "nbformat_minor": 4
}
